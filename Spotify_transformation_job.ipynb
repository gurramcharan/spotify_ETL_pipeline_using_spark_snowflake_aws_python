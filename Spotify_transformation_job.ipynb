{
	"metadata": {
		"kernelspec": {
			"name": "glue_pyspark",
			"display_name": "Glue PySpark",
			"language": "python"
		},
		"language_info": {
			"name": "Python_Glue_Session",
			"mimetype": "text/x-python",
			"codemirror_mode": {
				"name": "python",
				"version": 3
			},
			"pygments_lexer": "python3",
			"file_extension": ".py"
		}
	},
	"nbformat_minor": 4,
	"nbformat": 4,
	"cells": [
		{
			"cell_type": "markdown",
			"source": "# AWS Glue Studio Notebook\n##### You are now running a AWS Glue Studio notebook; To start using your notebook you need to start an AWS Glue Interactive Session.\n",
			"metadata": {
				"editable": true,
				"trusted": true
			}
		},
		{
			"cell_type": "markdown",
			"source": "#### Optional: Run this cell to see available notebook commands (\"magics\").\n",
			"metadata": {
				"editable": true,
				"trusted": true
			}
		},
		{
			"cell_type": "code",
			"source": "%idle_timeout 2880\n%glue_version 5.0\n%worker_type G.1X\n%number_of_workers 5\n\nimport sys\nfrom awsglue.transforms import *\nfrom awsglue.utils import getResolvedOptions\nfrom pyspark.context import SparkContext\nfrom awsglue.context import GlueContext\nfrom awsglue.job import Job\n  \nsc = SparkContext.getOrCreate()\nglueContext = GlueContext(sc)\nspark = glueContext.spark_session\njob = Job(glueContext)",
			"metadata": {
				"trusted": true,
				"editable": true
			},
			"execution_count": 1,
			"outputs": [
				{
					"name": "stdout",
					"text": "Welcome to the Glue Interactive Sessions Kernel\nFor more information on available magic commands, please type %help in any new cell.\n\nPlease view our Getting Started page to access the most up-to-date information on the Interactive Sessions kernel: https://docs.aws.amazon.com/glue/latest/dg/interactive-sessions.html\nInstalled kernel version: 1.0.8 \nCurrent idle_timeout is None minutes.\nidle_timeout has been set to 2880 minutes.\nSetting Glue version to: 5.0\nPrevious worker type: None\nSetting new worker type to: G.1X\nPrevious number of workers: None\nSetting new number of workers to: 5\nTrying to create a Glue session for the kernel.\nSession Type: glueetl\nWorker Type: G.1X\nNumber of Workers: 5\nIdle Timeout: 2880\nSession ID: da177329-8887-45be-9be3-3d12e09ebb41\nApplying the following default arguments:\n--glue_kernel_version 1.0.8\n--enable-glue-datacatalog true\nWaiting for session da177329-8887-45be-9be3-3d12e09ebb41 to get into ready status...\nSession da177329-8887-45be-9be3-3d12e09ebb41 has been created.\n\n",
					"output_type": "stream"
				}
			]
		},
		{
			"cell_type": "code",
			"source": "from pyspark.sql.functions import explode,col,to_date\nfrom datetime import datetime\nfrom awsglue.dynamicframe import DynamicFrame",
			"metadata": {
				"trusted": true,
				"tags": []
			},
			"execution_count": 17,
			"outputs": [
				{
					"name": "stdout",
					"text": "\n",
					"output_type": "stream"
				}
			]
		},
		{
			"cell_type": "code",
			"source": "s3_path = \"s3://spotify-etl-spark-project/raw_data/to_processed/\"\nsource_df = glueContext.create_dynamic_frame_from_options(\n    connection_type=\"s3\",\n    connection_options={\"paths\": [s3_path]},\n    format=\"json\"\n)",
			"metadata": {
				"trusted": true,
				"tags": []
			},
			"execution_count": 3,
			"outputs": [
				{
					"name": "stdout",
					"text": "\n",
					"output_type": "stream"
				}
			]
		},
		{
			"cell_type": "code",
			"source": "spotify_df = source_df.toDF()",
			"metadata": {
				"trusted": true,
				"tags": []
			},
			"execution_count": 4,
			"outputs": [
				{
					"name": "stdout",
					"text": "/usr/lib/spark/python/lib/pyspark.zip/pyspark/sql/dataframe.py:147: UserWarning: DataFrame constructor is internal. Do not directly use it.\n",
					"output_type": "stream"
				}
			]
		},
		{
			"cell_type": "code",
			"source": "df_artist_exploded = spotify_df.withColumn(\"items\", explode(\"items\")).select(explode(col(\"items.track.artists\")).alias(\"artists\"))\ndf = df_artist_exploded.select(\n        col(\"artists.id\").alias(\"artist_id\"),\n        col(\"artists.name\").alias(\"artist_name\"),\n        col(\"artists.external_urls.spotify\").alias(\"url\"),\n).drop_duplicates(['artist_id']).show(5,False)",
			"metadata": {
				"trusted": true,
				"tags": []
			},
			"execution_count": 24,
			"outputs": [
				{
					"name": "stdout",
					"text": "+----------------------+------------+------------------------------------------------------+\n|artist_id             |artist_name |url                                                   |\n+----------------------+------------+------------------------------------------------------+\n|02wf6SCDwrs2qTX09X0IRE|Yb Wasg'ood |https://open.spotify.com/artist/02wf6SCDwrs2qTX09X0IRE|\n|07MaeHw0cyfmgQ9D9I61UT|DJ JEEAN 011|https://open.spotify.com/artist/07MaeHw0cyfmgQ9D9I61UT|\n|09cKncAQn28NqTUORLMwSR|Ariis       |https://open.spotify.com/artist/09cKncAQn28NqTUORLMwSR|\n|0JGZRsRtFTQ0ZVBq9b2ZEj|DJ Javi26   |https://open.spotify.com/artist/0JGZRsRtFTQ0ZVBq9b2ZEj|\n|0Vxqvpm9tpZcz6d4egDtjX|MC PR       |https://open.spotify.com/artist/0Vxqvpm9tpZcz6d4egDtjX|\n+----------------------+------------+------------------------------------------------------+\nonly showing top 5 rows\n",
					"output_type": "stream"
				}
			]
		},
		{
			"cell_type": "code",
			"source": "def process_album(df):\n    df = df.withColumn(\"items\",explode(\"items\")).select(\n        col(\"items.track.album.id\").alias(\"album_id\"),\n        col(\"items.track.album.name\").alias(\"album_name\"),\n        col(\"items.track.album.release_date\").alias(\"release_date\"),\n        col(\"items.track.album.total_tracks\").alias(\"total_tracks\"),\n        col(\"items.track.album.external_urls.spotify\").alias(\"url\"),\n    ).drop_duplicates(['album_id'])\n    return df\n\ndef process_artists(df):\n    df_artist_exploded = df.withColumn(\"items\", explode(\"items\")).select(explode(col(\"items.track.artists\")).alias(\"artists\"))\n    df = df_artist_exploded.select(\n        col(\"artists.id\").alias(\"artist_id\"),\n        col(\"artists.name\").alias(\"artist_name\"),\n        col(\"artists.external_urls.spotify\").alias(\"url\"),\n    ).drop_duplicates(['artist_id'])\n    return df\n\ndef process_songs(df):\n    df_songs_exploded = df.select(explode(col(\"items\")).alias(\"items\"))\n    df = df_songs_exploded \\\n    .withColumn(\"artist_id\", explode(col(\"items.track.artists.id\"))) \\\n    .select(\n        col(\"items.track.id\").alias(\"song_id\"),\n        col(\"items.track.name\").alias(\"song_name\"),\n        col(\"items.track.duration_ms\").alias(\"duration_ms\"),\n        col(\"items.track.external_urls.spotify\").alias(\"url\"),\n        col(\"items.track.popularity\").alias(\"popularity\"),\n        col(\"items.added_at\").alias(\"songs_added\"),\n        col(\"items.track.album.id\").alias(\"album_id\"),\n        col(\"artist_id\")\n    ).drop_duplicates(['song_id', 'artist_id'])\n    df = df.withColumn(\"songs_added\", to_date(\"songs_added\"))\n    return df",
			"metadata": {
				"trusted": true,
				"tags": []
			},
			"execution_count": 32,
			"outputs": [
				{
					"name": "stdout",
					"text": "\n",
					"output_type": "stream"
				}
			]
		},
		{
			"cell_type": "code",
			"source": "album_df = process_album(spotify_df)\nalbum_df.show(5)",
			"metadata": {
				"trusted": true,
				"tags": []
			},
			"execution_count": 35,
			"outputs": [
				{
					"name": "stdout",
					"text": "+--------------------+--------------------+------------+------------+--------------------+\n|            album_id|          album_name|release_date|total_tracks|                 url|\n+--------------------+--------------------+------------+------------+--------------------+\n|05EQpLFKhJ1m4YElm...|     Ela Vira Mortal|  2022-08-05|           1|https://open.spot...|\n|06a7H7nusNMvM7yL8...|                AURA|  2024-07-12|           3|https://open.spot...|\n|0I7096R74VFP2xnMm...|     PASSO BEM SOLTO|  2024-04-23|           5|https://open.spot...|\n|0JQT0alFPE0pKxgiL...|Montagem sombra e...|  2024-11-30|           4|https://open.spot...|\n|0Qi6ZoqjRHB9W3yZl...|       Amor Na Praia|  2025-03-26|           5|https://open.spot...|\n+--------------------+--------------------+------------+------------+--------------------+\nonly showing top 5 rows\n",
					"output_type": "stream"
				}
			]
		},
		{
			"cell_type": "code",
			"source": "artist_df = process_artists(spotify_df)\nartist_df.show(5)",
			"metadata": {
				"trusted": true,
				"tags": []
			},
			"execution_count": 36,
			"outputs": [
				{
					"name": "stdout",
					"text": "+--------------------+------------+--------------------+\n|           artist_id| artist_name|                 url|\n+--------------------+------------+--------------------+\n|02wf6SCDwrs2qTX09...| Yb Wasg'ood|https://open.spot...|\n|07MaeHw0cyfmgQ9D9...|DJ JEEAN 011|https://open.spot...|\n|09cKncAQn28NqTUOR...|       Ariis|https://open.spot...|\n|0JGZRsRtFTQ0ZVBq9...|   DJ Javi26|https://open.spot...|\n|0Vxqvpm9tpZcz6d4e...|       MC PR|https://open.spot...|\n+--------------------+------------+--------------------+\nonly showing top 5 rows\n",
					"output_type": "stream"
				}
			]
		},
		{
			"cell_type": "code",
			"source": "songs_df = process_songs(spotify_df)\nsongs_df.show(5)",
			"metadata": {
				"trusted": true,
				"tags": []
			},
			"execution_count": 33,
			"outputs": [
				{
					"name": "stdout",
					"text": "+--------------------+--------------------+-----------+--------------------+----------+-----------+--------------------+--------------------+\n|             song_id|           song_name|duration_ms|                 url|popularity|songs_added|            album_id|           artist_id|\n+--------------------+--------------------+-----------+--------------------+----------+-----------+--------------------+--------------------+\n|02WKo37gebkkQKor2...|Beeper Funk - Slowed|     103375|https://open.spot...|        68| 2025-03-07|5eEfzNcFaXPsBXJzk...|0sjGfRBmq6lKmUNgt...|\n|02WKo37gebkkQKor2...|Beeper Funk - Slowed|     103375|https://open.spot...|        68| 2025-03-07|5eEfzNcFaXPsBXJzk...|648ZoUpTM6iIMTCgo...|\n|03E0f4JneWZEtrQPU...|BLOODY! - ULTRA S...|     139384|https://open.spot...|        70| 2025-04-05|0yr5YRR7l813mmHIT...|1qaCszXlFNPEnCELY...|\n|03E0f4JneWZEtrQPU...|BLOODY! - ULTRA S...|     139384|https://open.spot...|        70| 2025-04-05|0yr5YRR7l813mmHIT...|2ZuUKw4Pfvj7zIKxY...|\n|06PqeO7IInus2yvzs...|      CUTE DEPRESSED|      96946|https://open.spot...|        74| 2025-05-10|5qaY84OJqYT635rMG...|12Swjg82MNiUOfl1G...|\n+--------------------+--------------------+-----------+--------------------+----------+-----------+--------------------+--------------------+\nonly showing top 5 rows\n",
					"output_type": "stream"
				}
			]
		},
		{
			"cell_type": "code",
			"source": "def write_to_s3(df,path_suffix,format_type = \"csv\"):\n    dynamic_frame = DynamicFrame.fromDF(df, glueContext, \"dynamic_frame\")\n    \n    glueContext.write_dynamic_frame.from_options(\n        frame = dynamic_frame,\n        connection_type = \"s3\",\n        connection_options = {\"path\": f\"s3://spotify-etl-spark-project/transformed_data/{path_suffix}/\"},\n        format = format_type\n    )",
			"metadata": {
				"trusted": true,
				"tags": []
			},
			"execution_count": 39,
			"outputs": [
				{
					"name": "stdout",
					"text": "\n",
					"output_type": "stream"
				}
			]
		},
		{
			"cell_type": "code",
			"source": "write_to_s3(album_df, \"album_data/album_transformed_{}\".format(datetime.now().strftime(\"%Y-%m-%d\")),\"csv\")\nwrite_to_s3(artist_df, \"artist_data/artist_transformed_{}\".format(datetime.now().strftime(\"%Y-%m-%d\")),\"csv\")\nwrite_to_s3(songs_df, \"songs_data/songs_transformed_{}\".format(datetime.now().strftime(\"%Y-%m-%d\")),\"csv\")",
			"metadata": {
				"trusted": true,
				"tags": []
			},
			"execution_count": 41,
			"outputs": [
				{
					"name": "stdout",
					"text": "\n",
					"output_type": "stream"
				}
			]
		},
		{
			"cell_type": "code",
			"source": "",
			"metadata": {},
			"execution_count": null,
			"outputs": []
		}
	]
}